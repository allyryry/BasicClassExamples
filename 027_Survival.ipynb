{
 "cells": [
  {
   "cell_type": "code",
   "execution_count": null,
   "metadata": {},
   "outputs": [],
   "source": [
    "import numpy as np\n",
    "import pandas as pd\n",
    "import seaborn as sns\n",
    "import matplotlib.pyplot as plt\n",
    "import seaborn as sns\n",
    "import thinkstats2\n",
    "import thinkplot\n",
    "import survival\n"
   ]
  },
  {
   "cell_type": "markdown",
   "metadata": {},
   "source": [
    "<h1>Survival Analysis</h1>\n",
    "\n",
    "Survival analysis is the examination of how long we expect something to last or continue. For example, how long do we expect someone to live after a certain diagnosis, how long we expect a customer to remain a customer, or how long we expect someone to remain at a job. \n",
    "\n",
    "Below, we'll load some data on turnonver. The stag column indicates how long, in months, someone has been employed; the event column indicates if they have left a company. "
   ]
  },
  {
   "cell_type": "code",
   "execution_count": null,
   "metadata": {},
   "outputs": [],
   "source": [
    "df = pd.read_csv(\"turnover.csv\",encoding = \"ISO-8859-1\")\n",
    "df[\"stag\"] = np.round(df[\"stag\"])\n",
    "df.head()"
   ]
  },
  {
   "cell_type": "markdown",
   "metadata": {},
   "source": [
    "<h4>Exercise Data</h4>\n",
    "\n",
    "We can also load some other data that we can work on for some examples. This data is on how long someone is a customer of a phone company. \n",
    "\n",
    "\"tenure\" is the duration that they've been a customer.\n",
    "\"Churn\" is if they've left, or if they're still there. "
   ]
  },
  {
   "cell_type": "code",
   "execution_count": null,
   "metadata": {},
   "outputs": [],
   "source": [
    "d2 = pd.read_csv(\"churn.csv\")\n",
    "d2.head()"
   ]
  },
  {
   "cell_type": "markdown",
   "metadata": {},
   "source": [
    "<h3>Survival and CDF</h3>\n",
    "\n",
    "The idea of survival should remind us of something we're really comfortable with - the CDF. Recall, the CDF shows us an accumulation of what percentage of all records are less than X value; if that X value is time, the CDF shows us how many things last less than X. \n",
    "\n",
    "Survival is the opposite of that, or more accurately, the complement. The survival is what percentage has lasted that long. Mathmatically, the survival is simple: 1-cdf(x).\n",
    "<ul>\n",
    "<li>S(x) = 1 - CDF(x)\n",
    "</ul>\n",
    "\n",
    "Visually, we can look at how they interact by graphing the cdf, survival, and both together. "
   ]
  },
  {
   "cell_type": "code",
   "execution_count": null,
   "metadata": {},
   "outputs": [],
   "source": [
    "import survival\n",
    "def MakeSurvivalFromCdf(cdf, label=''):\n",
    "    \"\"\"Makes a survival function based on a CDF.\n",
    "\n",
    "    cdf: Cdf\n",
    "    \n",
    "    returns: SurvivalFunction\n",
    "    \"\"\"\n",
    "    ts = cdf.xs\n",
    "    ss = 1 - cdf.ps\n",
    "    return survival.SurvivalFunction(ts, ss, label)"
   ]
  },
  {
   "cell_type": "code",
   "execution_count": null,
   "metadata": {},
   "outputs": [],
   "source": [
    "thinkplot.PrePlot(3,1,3)\n",
    "cdf = thinkstats2.Cdf(df[\"stag\"])\n",
    "thinkplot.Cdf(cdf)\n",
    "thinkplot.SubPlot(2)\n",
    "thinkplot.Cdf(cdf, complement=True)\n",
    "thinkplot.SubPlot(3)\n",
    "sf = MakeSurvivalFromCdf(cdf)\n",
    "thinkplot.Plot(sf, label='survival', color=\"red\")\n",
    "thinkplot.Cdf(cdf, color=\"blue\", label=\"CDF\")\n",
    "thinkplot.Config()"
   ]
  },
  {
   "cell_type": "markdown",
   "metadata": {},
   "source": [
    "The two sum to 1. Analytically we can also see this. \n",
    "\n",
    "How many employees last less/more than 24 months:"
   ]
  },
  {
   "cell_type": "code",
   "execution_count": null,
   "metadata": {},
   "outputs": [],
   "source": [
    "#Above or below 24 months\n",
    "print(cdf[24])\n",
    "print(sf[24])"
   ]
  },
  {
   "cell_type": "markdown",
   "metadata": {},
   "source": [
    "<h4>Exercise - Print CDF and Survival for the Churn Data</h4>"
   ]
  },
  {
   "cell_type": "code",
   "execution_count": null,
   "metadata": {},
   "outputs": [],
   "source": [
    "#Graph"
   ]
  },
  {
   "cell_type": "code",
   "execution_count": null,
   "metadata": {},
   "outputs": [],
   "source": [
    "#Calculate share above or below 24 months\n"
   ]
  },
  {
   "cell_type": "markdown",
   "metadata": {},
   "source": [
    "<h3>Hazard Function</h3>\n",
    "\n",
    "The hazard function showshow many things end or happen at any given time point of t, of all things that made it that far:\n",
    "<ul>\n",
    "<li>H(t) = (S(t) - S(t+1)) / S(t)\n",
    "</ul>\n",
    "\n",
    "For example, the hazard function will show: of all employees that lasted 24 months, how many ended their employment in that month. We can draw a line to make the connection a bit more clear on the chart. "
   ]
  },
  {
   "cell_type": "code",
   "execution_count": null,
   "metadata": {},
   "outputs": [],
   "source": [
    "hf = sf.MakeHazardFunction(label='hazard')\n",
    "print(\"Employees that left in 24th month:\",hf[24])\n",
    "thinkplot.Plot(hf)\n",
    "thinkplot.axhline(hf[24], color=\"red\")\n",
    "thinkplot.Config(ylim=[0, 0.75], loc='upper left')"
   ]
  },
  {
   "cell_type": "markdown",
   "metadata": {},
   "source": [
    "<h4>Exercise - Show Hazard Function for Churn</h4>"
   ]
  },
  {
   "cell_type": "code",
   "execution_count": null,
   "metadata": {},
   "outputs": [],
   "source": [
    "#Hazard Function"
   ]
  },
  {
   "cell_type": "markdown",
   "metadata": {},
   "source": [
    "<h3>Estimation - Kaplan-Meier</h3>\n",
    "\n",
    "In real usage, we generally don't have all data in a nice CDF ready to go. We need to make an estimation, and there is a method to do so: Kaplan-Meier. \n",
    "\n",
    "KM is a commonly used function that we can use to estimate a hazard function from some data. The formula (which we don't need to worry about in detail) is:\n",
    "<ul>\n",
    "<li>S(t+1) = S(t)*( 1 - d/n )\n",
    "<li>Where d = number that end at t, and n = total number at t. \n",
    "</ul>\n",
    "\n",
    "To use this, we supply a list of all the things that have ended, and all those that haven't. "
   ]
  },
  {
   "cell_type": "code",
   "execution_count": null,
   "metadata": {},
   "outputs": [],
   "source": [
    "from collections import Counter\n",
    "\n",
    "def EstimateHazardFunction(complete, ongoing, label='', verbose=False):\n",
    "    \"\"\"Estimates the hazard function by Kaplan-Meier.\n",
    "\n",
    "    http://en.wikipedia.org/wiki/Kaplan%E2%80%93Meier_estimator\n",
    "\n",
    "    complete: list of complete lifetimes\n",
    "    ongoing: list of ongoing lifetimes\n",
    "    label: string\n",
    "    verbose: whether to display intermediate results\n",
    "    \"\"\"\n",
    "    if np.sum(np.isnan(complete)):\n",
    "        raise ValueError(\"complete contains NaNs\")\n",
    "    if np.sum(np.isnan(ongoing)):\n",
    "        raise ValueError(\"ongoing contains NaNs\")\n",
    "\n",
    "    hist_complete = Counter(complete)\n",
    "    hist_ongoing = Counter(ongoing)\n",
    "\n",
    "    ts = list(hist_complete | hist_ongoing)\n",
    "    ts.sort()\n",
    "\n",
    "    at_risk = len(complete) + len(ongoing)\n",
    "\n",
    "    lams = pd.Series(index=ts)\n",
    "    for t in ts:\n",
    "        ended = hist_complete[t]\n",
    "        censored = hist_ongoing[t]\n",
    "\n",
    "        lams[t] = ended / at_risk\n",
    "        if verbose:\n",
    "            print(t, at_risk, ended, censored, lams[t])\n",
    "        at_risk -= ended + censored\n",
    "\n",
    "    return survival.HazardFunction(lams, label=label)"
   ]
  },
  {
   "cell_type": "markdown",
   "metadata": {},
   "source": [
    "Plot the hazard function using the KM estimation:"
   ]
  },
  {
   "cell_type": "code",
   "execution_count": null,
   "metadata": {},
   "outputs": [],
   "source": [
    "complete = df[df.event==1].stag\n",
    "ongoing = df[df.event==0].stag\n",
    "\n",
    "hf = EstimateHazardFunction(complete, ongoing)\n",
    "thinkplot.Plot(hf)\n",
    "thinkplot.Config(xlabel='Time',\n",
    "                 ylabel='Hazard')"
   ]
  },
  {
   "cell_type": "markdown",
   "metadata": {},
   "source": [
    "From the hazard function, we can then call a function to get the survival function. The idea is pretty simple - we know what fraction will end at any given point, as we have a survival function, so a tally of what is left is pretty conceptually simple. "
   ]
  },
  {
   "cell_type": "code",
   "execution_count": null,
   "metadata": {},
   "outputs": [],
   "source": [
    "sf = hf.MakeSurvival()\n",
    "thinkplot.Plot(sf)\n",
    "thinkplot.Config(xlabel='Time',\n",
    "                 ylabel='Prob Employed',\n",
    "                 ylim=[0, 1])"
   ]
  },
  {
   "cell_type": "markdown",
   "metadata": {},
   "source": [
    "<h4>Exercise - Generate Hazard and Survival Function with KM for Churn</h4>\n",
    "\n",
    "Hint: May need to look at the values in the Churn column."
   ]
  },
  {
   "cell_type": "code",
   "execution_count": null,
   "metadata": {},
   "outputs": [],
   "source": [
    "#Estimation Hazard Function"
   ]
  },
  {
   "cell_type": "code",
   "execution_count": null,
   "metadata": {},
   "outputs": [],
   "source": [
    "#Survival Function"
   ]
  },
  {
   "cell_type": "markdown",
   "metadata": {},
   "source": [
    "<H3>Confidence Intervals</H3>\n",
    "\n",
    "We can use the survival and hazard information to make confidence intervals. The types of error that we are used to also exist in survival. We can use multiple samples to generate confidence just like we did with estimation. "
   ]
  },
  {
   "cell_type": "code",
   "execution_count": null,
   "metadata": {},
   "outputs": [],
   "source": [
    "def EstimateJobSurvival(resp, columnName=\"stag\", splitName=\"event\"):\n",
    "    \"\"\"Estimates the survival curve.\n",
    "\n",
    "    resp: DataFrame of respondents\n",
    "\n",
    "    returns: pair of HazardFunction, SurvivalFunction\n",
    "    \"\"\"\n",
    "    # NOTE: Filling missing values would be better than dropping them.\n",
    "    tmp1 = resp[resp[splitName] == 1]\n",
    "    tmp2 = resp[resp[splitName] == 0]\n",
    "    complete = tmp1[columnName]\n",
    "    ongoing = tmp2[columnName]\n",
    "\n",
    "    hf = EstimateHazardFunction(complete, ongoing)\n",
    "    sf = hf.MakeSurvival()\n",
    "\n",
    "    return hf, sf"
   ]
  },
  {
   "cell_type": "code",
   "execution_count": null,
   "metadata": {},
   "outputs": [],
   "source": [
    "def ResampleSurvival(resp, iters=101, columnName=\"stag\", color=\"blue\", ciHi=95, ciLo=5, splitName=\"event\"):\n",
    "    \"\"\"Resamples respondents and estimates the survival function.\n",
    "\n",
    "    resp: DataFrame of respondents\n",
    "    iters: number of resamples\n",
    "    \"\"\" \n",
    "    _, sf = EstimateJobSurvival(resp, columnName, splitName)\n",
    "    thinkplot.Plot(sf, color=color)\n",
    "\n",
    "    low, high = resp[columnName].min(), resp[columnName].max()\n",
    "    ts = np.arange(low, high)\n",
    "\n",
    "    ss_seq = []\n",
    "    for _ in range(iters):\n",
    "        #sample = thinkstats2.ResampleRowsWeighted(resp, column=\"age\")\n",
    "        sample = thinkstats2.ResampleRows(resp)\n",
    "        _, sf = EstimateJobSurvival(sample, columnName, splitName)\n",
    "        ss_seq.append(sf.Probs(ts))\n",
    "\n",
    "    low, high = thinkstats2.PercentileRows(ss_seq, [ciLo, ciHi])\n",
    "    thinkplot.FillBetween(ts, low, high, color='gray', label=str(ciHi-ciLo))"
   ]
  },
  {
   "cell_type": "markdown",
   "metadata": {},
   "source": [
    "<h4>Show Projection With Confidence Intervals</h4>"
   ]
  },
  {
   "cell_type": "code",
   "execution_count": null,
   "metadata": {},
   "outputs": [],
   "source": [
    "ResampleSurvival(df)\n",
    "thinkplot.Config(xlabel='Months',\n",
    "                 ylabel='Prob employed',\n",
    "                 ylim=[0, 1],\n",
    "                 loc='upper right')"
   ]
  },
  {
   "cell_type": "markdown",
   "metadata": {},
   "source": [
    "<h4>Exercise - Draw Churn with CI of 90%</h4>\n",
    "\n",
    "Hint: Check function arguments above. "
   ]
  },
  {
   "cell_type": "code",
   "execution_count": null,
   "metadata": {},
   "outputs": [],
   "source": [
    "#Survival with CI"
   ]
  },
  {
   "cell_type": "markdown",
   "metadata": {},
   "source": [
    "<h3>Cohort Differences</h3>\n",
    "\n",
    "One way that survival analysis is useful is to compare groups - most notably in scenarios such as \"how long does a treated group live vs a non-treated group?\". \n",
    "\n",
    "We can split the data in any way we want, such as by sex. "
   ]
  },
  {
   "cell_type": "code",
   "execution_count": null,
   "metadata": {},
   "outputs": [],
   "source": [
    "male = df[df[\"gender\"]==\"m\"]\n",
    "fem = df[df[\"gender\"]==\"f\"]"
   ]
  },
  {
   "cell_type": "code",
   "execution_count": null,
   "metadata": {},
   "outputs": [],
   "source": [
    "ResampleSurvival(male)\n",
    "thinkplot.Config(xlabel='Months',\n",
    "                 ylabel='Prob employed',\n",
    "                 ylim=[0, 1],\n",
    "                 loc='upper right')\n",
    "\n",
    "ResampleSurvival(fem, color=\"red\")\n",
    "thinkplot.Config(xlabel='Months',\n",
    "                 ylabel='Prob employed',\n",
    "                 ylim=[0, 1],\n",
    "                 loc='upper right',\n",
    "                 color=\"red\")"
   ]
  },
  {
   "cell_type": "markdown",
   "metadata": {},
   "source": [
    "Looks like males are a tiny bit more likely to be employed at most points. "
   ]
  },
  {
   "cell_type": "markdown",
   "metadata": {},
   "source": [
    "<h4>Exercise - Split Churn Data by InternetService</h4>"
   ]
  },
  {
   "cell_type": "code",
   "execution_count": null,
   "metadata": {},
   "outputs": [],
   "source": [
    "#Split data"
   ]
  },
  {
   "cell_type": "code",
   "execution_count": null,
   "metadata": {},
   "outputs": [],
   "source": [
    "#Plot survival functions"
   ]
  },
  {
   "cell_type": "markdown",
   "metadata": {},
   "source": [
    "<h3>Remaining Lifetime</h3>\n",
    "\n",
    "We can also estimate how long we can expect someone to \"continue\" - usually to not die, or continue to be a customer. \n",
    "\n",
    "The idea behind this is fairly simple - we know the probability of someone having their event at any point - that's our hazard function; along with that we know the survival - how likely someone is to make it that far. So to figure out the expected lifetime, we basically tally up the likelihoods of lasting different amounts of time, and take the average. "
   ]
  },
  {
   "cell_type": "code",
   "execution_count": null,
   "metadata": {},
   "outputs": [],
   "source": [
    "def makePmf(data, filler=None):\n",
    "    \"\"\"Makes a PMF of lifetimes.\n",
    "\n",
    "    filler: value to replace missing values\n",
    "\n",
    "    returns: Pmf\n",
    "    \"\"\"\n",
    "    cdf = thinkstats2.Cdf(data.ts, 1-data.ss)\n",
    "    pmf = thinkstats2.Pmf()\n",
    "    for val, prob in cdf.Items():\n",
    "        pmf.Set(val, prob)\n",
    "\n",
    "    cutoff = cdf.ps[-1]\n",
    "    if filler is not None:\n",
    "        pmf[filler] = 1-cutoff\n",
    "\n",
    "    return pmf\n",
    "\n",
    "def remLifetime(data, filler=None, func=thinkstats2.Pmf.Mean):\n",
    "    \"\"\"Computes remaining lifetime as a function of age.\n",
    "    func: function from conditional Pmf to expected liftime\n",
    "    returns: Series that maps from age to remaining lifetime\n",
    "    \"\"\"\n",
    "    pmf = makePmf(data,filler=filler)\n",
    "    d = {}\n",
    "    for t in sorted(pmf.Values())[:-2]:\n",
    "        pmf[t] = 0\n",
    "        pmf.Normalize()\n",
    "        d[t] = func(pmf) - t\n",
    "\n",
    "    return pd.Series(d)\n"
   ]
  },
  {
   "cell_type": "markdown",
   "metadata": {},
   "source": [
    "<h4>Estimate Remaining Lifetime at a Point</h4>\n",
    "\n",
    "How long can we expect someone who has worked here for 24 months to continue?"
   ]
  },
  {
   "cell_type": "code",
   "execution_count": null,
   "metadata": {},
   "outputs": [],
   "source": [
    "rem_life1 = remLifetime(sf)\n",
    "print(\"Mean Remaining Emp. at 24 Months:\",rem_life1[24])\n",
    "thinkplot.Plot(rem_life1)\n",
    "thinkplot.Config(title='Remaining Employment Length',\n",
    "                 xlabel='Months',\n",
    "                 ylabel='Mean Remaining')"
   ]
  },
  {
   "cell_type": "markdown",
   "metadata": {},
   "source": [
    "We can also specify a function to replace the mean, for example we can ask for the median expected value:"
   ]
  },
  {
   "cell_type": "code",
   "execution_count": null,
   "metadata": {},
   "outputs": [],
   "source": [
    "#Provide a generic function via the lambda\n",
    "#Whatever calculation is here will replace the mean for the remaining life\n",
    "func = lambda x: x.Percentile(50)\n",
    "rem_life2 = remLifetime(sf, filler=np.inf, func=func)\n",
    "\n",
    "print(\"Median Remaining Emp. at 24 Months:\",rem_life2[24])\n",
    "thinkplot.Plot(rem_life2)\n",
    "thinkplot.Config(title='Month until Quit',\n",
    "                 xlabel='Months',\n",
    "                 ylabel='Median remaining months')"
   ]
  },
  {
   "cell_type": "markdown",
   "metadata": {},
   "source": [
    "<h4>Exercises - How Long Should we Expect a Customer of 24 Months to Stay?</h4>"
   ]
  },
  {
   "cell_type": "code",
   "execution_count": null,
   "metadata": {},
   "outputs": [],
   "source": [
    "#Survival of Customre ar 24 months. "
   ]
  },
  {
   "cell_type": "markdown",
   "metadata": {},
   "source": [
    "<h2>Real Life and Library Functions</h2>\n",
    "\n",
    "We created a bunch of functions here based on the book's stuff to see the details of how survival works. \n",
    "\n",
    "In general, we can use library functions for this:\n",
    "<ul>\n",
    "<li>The package \"lifelines\" has most of this stuff in ready to go formats. (You'd likely need to install it)\n",
    "<li>When using a scipy function, there is normally a survival function built in, normally sf.\n",
    "</ul>"
   ]
  }
 ],
 "metadata": {
  "interpreter": {
   "hash": "ea39297c2a3b8433e0e3c4b620aff79df88eb4bda961dfb2311fbafd7efdbd77"
  },
  "kernelspec": {
   "display_name": "Python 3.8.11 64-bit ('base': conda)",
   "language": "python",
   "name": "python3"
  },
  "language_info": {
   "codemirror_mode": {
    "name": "ipython",
    "version": 3
   },
   "file_extension": ".py",
   "mimetype": "text/x-python",
   "name": "python",
   "nbconvert_exporter": "python",
   "pygments_lexer": "ipython3",
   "version": "3.8.11"
  },
  "orig_nbformat": 4
 },
 "nbformat": 4,
 "nbformat_minor": 2
}
