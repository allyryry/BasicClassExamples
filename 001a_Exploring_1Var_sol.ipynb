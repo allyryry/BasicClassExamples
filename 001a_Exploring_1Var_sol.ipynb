{
 "cells": [
  {
   "cell_type": "code",
   "execution_count": 1,
   "metadata": {},
   "outputs": [],
   "source": [
    "import thinkplot\n",
    "import thinkstats2\n",
    "import pandas as pd\n",
    "import numpy as np"
   ]
  },
  {
   "cell_type": "markdown",
   "metadata": {},
   "source": [
    "I want to find a home in Edmonton. I need your help!\n",
    "\n",
    "We need to start looking at information on home prices so I can start to see if I can afford a house. I've grabbed the property assessment data for all purely residential properties in Edmonton. (In theory this should be the entire population of homes in Edmonton, in reality, it is probably a sample as there's some properties that are oddly classified - e.g. part farm, part residential or BnB, etc...)\n",
    "\n",
    "We should probably start with loading the data into a useful format, the file is in Assessments.csv"
   ]
  },
  {
   "cell_type": "code",
   "execution_count": 2,
   "metadata": {},
   "outputs": [],
   "source": [
    "#Load data from CSV and put in a useful data structure\n",
    "df =pd.read_csv(\"Assessments.csv\")"
   ]
  },
  {
   "cell_type": "markdown",
   "metadata": {},
   "source": [
    "The data is all loaded up. We should first figure out what we have..."
   ]
  },
  {
   "cell_type": "code",
   "execution_count": 3,
   "metadata": {},
   "outputs": [
    {
     "data": {
      "text/html": [
       "<div>\n",
       "<style scoped>\n",
       "    .dataframe tbody tr th:only-of-type {\n",
       "        vertical-align: middle;\n",
       "    }\n",
       "\n",
       "    .dataframe tbody tr th {\n",
       "        vertical-align: top;\n",
       "    }\n",
       "\n",
       "    .dataframe thead th {\n",
       "        text-align: right;\n",
       "    }\n",
       "</style>\n",
       "<table border=\"1\" class=\"dataframe\">\n",
       "  <thead>\n",
       "    <tr style=\"text-align: right;\">\n",
       "      <th></th>\n",
       "      <th>Account Number</th>\n",
       "      <th>Suite</th>\n",
       "      <th>House Number</th>\n",
       "      <th>Street Name</th>\n",
       "      <th>Garage</th>\n",
       "      <th>Neighbourhood ID</th>\n",
       "      <th>Neighbourhood</th>\n",
       "      <th>Ward</th>\n",
       "      <th>Assessed Value</th>\n",
       "      <th>Latitude</th>\n",
       "      <th>Longitude</th>\n",
       "    </tr>\n",
       "  </thead>\n",
       "  <tbody>\n",
       "    <tr>\n",
       "      <th>0</th>\n",
       "      <td>1066158</td>\n",
       "      <td>NaN</td>\n",
       "      <td>14904.0</td>\n",
       "      <td>167 AVENUE NW</td>\n",
       "      <td>N</td>\n",
       "      <td>NaN</td>\n",
       "      <td>NaN</td>\n",
       "      <td>NaN</td>\n",
       "      <td>86000</td>\n",
       "      <td>53.630497</td>\n",
       "      <td>-113.580474</td>\n",
       "    </tr>\n",
       "    <tr>\n",
       "      <th>1</th>\n",
       "      <td>10508233</td>\n",
       "      <td>NaN</td>\n",
       "      <td>16340.0</td>\n",
       "      <td>MARK MESSIER TRAIL NW</td>\n",
       "      <td>N</td>\n",
       "      <td>NaN</td>\n",
       "      <td>NaN</td>\n",
       "      <td>NaN</td>\n",
       "      <td>45000</td>\n",
       "      <td>53.617335</td>\n",
       "      <td>-113.605690</td>\n",
       "    </tr>\n",
       "    <tr>\n",
       "      <th>2</th>\n",
       "      <td>1194398</td>\n",
       "      <td>NaN</td>\n",
       "      <td>15617.0</td>\n",
       "      <td>83 STREET NW</td>\n",
       "      <td>N</td>\n",
       "      <td>2050.0</td>\n",
       "      <td>BELLE RIVE</td>\n",
       "      <td>Ward 3</td>\n",
       "      <td>285000</td>\n",
       "      <td>53.617007</td>\n",
       "      <td>-113.467976</td>\n",
       "    </tr>\n",
       "    <tr>\n",
       "      <th>3</th>\n",
       "      <td>1034214</td>\n",
       "      <td>NaN</td>\n",
       "      <td>10661.0</td>\n",
       "      <td>161 AVENUE NW</td>\n",
       "      <td>Y</td>\n",
       "      <td>3040.0</td>\n",
       "      <td>BEAUMARIS</td>\n",
       "      <td>Ward 3</td>\n",
       "      <td>635000</td>\n",
       "      <td>53.619978</td>\n",
       "      <td>-113.506990</td>\n",
       "    </tr>\n",
       "    <tr>\n",
       "      <th>4</th>\n",
       "      <td>1114701</td>\n",
       "      <td>NaN</td>\n",
       "      <td>15003.0</td>\n",
       "      <td>76 AVENUE NW</td>\n",
       "      <td>Y</td>\n",
       "      <td>4430.0</td>\n",
       "      <td>RIO TERRACE</td>\n",
       "      <td>Ward 5</td>\n",
       "      <td>407500</td>\n",
       "      <td>53.508644</td>\n",
       "      <td>-113.579897</td>\n",
       "    </tr>\n",
       "  </tbody>\n",
       "</table>\n",
       "</div>"
      ],
      "text/plain": [
       "   Account Number Suite  House Number            Street Name Garage  \\\n",
       "0         1066158   NaN       14904.0          167 AVENUE NW      N   \n",
       "1        10508233   NaN       16340.0  MARK MESSIER TRAIL NW      N   \n",
       "2         1194398   NaN       15617.0           83 STREET NW      N   \n",
       "3         1034214   NaN       10661.0          161 AVENUE NW      Y   \n",
       "4         1114701   NaN       15003.0           76 AVENUE NW      Y   \n",
       "\n",
       "   Neighbourhood ID Neighbourhood    Ward  Assessed Value   Latitude  \\\n",
       "0               NaN           NaN     NaN           86000  53.630497   \n",
       "1               NaN           NaN     NaN           45000  53.617335   \n",
       "2            2050.0    BELLE RIVE  Ward 3          285000  53.617007   \n",
       "3            3040.0     BEAUMARIS  Ward 3          635000  53.619978   \n",
       "4            4430.0   RIO TERRACE  Ward 5          407500  53.508644   \n",
       "\n",
       "    Longitude  \n",
       "0 -113.580474  \n",
       "1 -113.605690  \n",
       "2 -113.467976  \n",
       "3 -113.506990  \n",
       "4 -113.579897  "
      ]
     },
     "execution_count": 3,
     "metadata": {},
     "output_type": "execute_result"
    }
   ],
   "source": [
    "#Examine the data. We may want to create another code cell and look at the data in more than one way.\n",
    "#Look for categorical and numerical features\n",
    "df.head()"
   ]
  },
  {
   "cell_type": "code",
   "execution_count": 4,
   "metadata": {},
   "outputs": [
    {
     "data": {
      "text/html": [
       "<div>\n",
       "<style scoped>\n",
       "    .dataframe tbody tr th:only-of-type {\n",
       "        vertical-align: middle;\n",
       "    }\n",
       "\n",
       "    .dataframe tbody tr th {\n",
       "        vertical-align: top;\n",
       "    }\n",
       "\n",
       "    .dataframe thead th {\n",
       "        text-align: right;\n",
       "    }\n",
       "</style>\n",
       "<table border=\"1\" class=\"dataframe\">\n",
       "  <thead>\n",
       "    <tr style=\"text-align: right;\">\n",
       "      <th></th>\n",
       "      <th>Account Number</th>\n",
       "      <th>Suite</th>\n",
       "      <th>House Number</th>\n",
       "      <th>Street Name</th>\n",
       "      <th>Garage</th>\n",
       "      <th>Neighbourhood ID</th>\n",
       "      <th>Neighbourhood</th>\n",
       "      <th>Ward</th>\n",
       "      <th>Assessed Value</th>\n",
       "      <th>Latitude</th>\n",
       "      <th>Longitude</th>\n",
       "    </tr>\n",
       "  </thead>\n",
       "  <tbody>\n",
       "    <tr>\n",
       "      <th>count</th>\n",
       "      <td>3.842170e+05</td>\n",
       "      <td>80043</td>\n",
       "      <td>342008.000000</td>\n",
       "      <td>342008</td>\n",
       "      <td>384217</td>\n",
       "      <td>384213.000000</td>\n",
       "      <td>384213</td>\n",
       "      <td>384213</td>\n",
       "      <td>3.842170e+05</td>\n",
       "      <td>384217.000000</td>\n",
       "      <td>384217.000000</td>\n",
       "    </tr>\n",
       "    <tr>\n",
       "      <th>unique</th>\n",
       "      <td>NaN</td>\n",
       "      <td>1899</td>\n",
       "      <td>NaN</td>\n",
       "      <td>2765</td>\n",
       "      <td>2</td>\n",
       "      <td>NaN</td>\n",
       "      <td>345</td>\n",
       "      <td>12</td>\n",
       "      <td>NaN</td>\n",
       "      <td>NaN</td>\n",
       "      <td>NaN</td>\n",
       "    </tr>\n",
       "    <tr>\n",
       "      <th>top</th>\n",
       "      <td>NaN</td>\n",
       "      <td>202</td>\n",
       "      <td>NaN</td>\n",
       "      <td>104 STREET NW</td>\n",
       "      <td>Y</td>\n",
       "      <td>NaN</td>\n",
       "      <td>OLIVER</td>\n",
       "      <td>Ward 9</td>\n",
       "      <td>NaN</td>\n",
       "      <td>NaN</td>\n",
       "      <td>NaN</td>\n",
       "    </tr>\n",
       "    <tr>\n",
       "      <th>freq</th>\n",
       "      <td>NaN</td>\n",
       "      <td>979</td>\n",
       "      <td>NaN</td>\n",
       "      <td>2034</td>\n",
       "      <td>235286</td>\n",
       "      <td>NaN</td>\n",
       "      <td>11380</td>\n",
       "      <td>51837</td>\n",
       "      <td>NaN</td>\n",
       "      <td>NaN</td>\n",
       "      <td>NaN</td>\n",
       "    </tr>\n",
       "    <tr>\n",
       "      <th>mean</th>\n",
       "      <td>7.813424e+06</td>\n",
       "      <td>NaN</td>\n",
       "      <td>7663.119035</td>\n",
       "      <td>NaN</td>\n",
       "      <td>NaN</td>\n",
       "      <td>4270.033703</td>\n",
       "      <td>NaN</td>\n",
       "      <td>NaN</td>\n",
       "      <td>3.084198e+05</td>\n",
       "      <td>53.518421</td>\n",
       "      <td>-113.512491</td>\n",
       "    </tr>\n",
       "    <tr>\n",
       "      <th>std</th>\n",
       "      <td>3.232763e+06</td>\n",
       "      <td>NaN</td>\n",
       "      <td>5439.436817</td>\n",
       "      <td>NaN</td>\n",
       "      <td>NaN</td>\n",
       "      <td>1748.172894</td>\n",
       "      <td>NaN</td>\n",
       "      <td>NaN</td>\n",
       "      <td>2.837778e+05</td>\n",
       "      <td>0.068403</td>\n",
       "      <td>0.082829</td>\n",
       "    </tr>\n",
       "    <tr>\n",
       "      <th>min</th>\n",
       "      <td>1.001163e+06</td>\n",
       "      <td>NaN</td>\n",
       "      <td>1.000000</td>\n",
       "      <td>NaN</td>\n",
       "      <td>NaN</td>\n",
       "      <td>1010.000000</td>\n",
       "      <td>NaN</td>\n",
       "      <td>NaN</td>\n",
       "      <td>0.000000e+00</td>\n",
       "      <td>53.338595</td>\n",
       "      <td>-113.712930</td>\n",
       "    </tr>\n",
       "    <tr>\n",
       "      <th>25%</th>\n",
       "      <td>4.584405e+06</td>\n",
       "      <td>NaN</td>\n",
       "      <td>2504.000000</td>\n",
       "      <td>NaN</td>\n",
       "      <td>NaN</td>\n",
       "      <td>2660.000000</td>\n",
       "      <td>NaN</td>\n",
       "      <td>NaN</td>\n",
       "      <td>1.700000e+05</td>\n",
       "      <td>53.458619</td>\n",
       "      <td>-113.569078</td>\n",
       "    </tr>\n",
       "    <tr>\n",
       "      <th>50%</th>\n",
       "      <td>9.966988e+06</td>\n",
       "      <td>NaN</td>\n",
       "      <td>7916.000000</td>\n",
       "      <td>NaN</td>\n",
       "      <td>NaN</td>\n",
       "      <td>4540.000000</td>\n",
       "      <td>NaN</td>\n",
       "      <td>NaN</td>\n",
       "      <td>3.055000e+05</td>\n",
       "      <td>53.519813</td>\n",
       "      <td>-113.510520</td>\n",
       "    </tr>\n",
       "    <tr>\n",
       "      <th>75%</th>\n",
       "      <td>1.017294e+07</td>\n",
       "      <td>NaN</td>\n",
       "      <td>11425.000000</td>\n",
       "      <td>NaN</td>\n",
       "      <td>NaN</td>\n",
       "      <td>5576.000000</td>\n",
       "      <td>NaN</td>\n",
       "      <td>NaN</td>\n",
       "      <td>3.975000e+05</td>\n",
       "      <td>53.574187</td>\n",
       "      <td>-113.447708</td>\n",
       "    </tr>\n",
       "    <tr>\n",
       "      <th>max</th>\n",
       "      <td>1.101388e+07</td>\n",
       "      <td>NaN</td>\n",
       "      <td>51175.000000</td>\n",
       "      <td>NaN</td>\n",
       "      <td>NaN</td>\n",
       "      <td>8888.000000</td>\n",
       "      <td>NaN</td>\n",
       "      <td>NaN</td>\n",
       "      <td>4.391150e+07</td>\n",
       "      <td>53.715150</td>\n",
       "      <td>-113.278441</td>\n",
       "    </tr>\n",
       "  </tbody>\n",
       "</table>\n",
       "</div>"
      ],
      "text/plain": [
       "        Account Number  Suite   House Number    Street Name  Garage  \\\n",
       "count     3.842170e+05  80043  342008.000000         342008  384217   \n",
       "unique             NaN   1899            NaN           2765       2   \n",
       "top                NaN    202            NaN  104 STREET NW       Y   \n",
       "freq               NaN    979            NaN           2034  235286   \n",
       "mean      7.813424e+06    NaN    7663.119035            NaN     NaN   \n",
       "std       3.232763e+06    NaN    5439.436817            NaN     NaN   \n",
       "min       1.001163e+06    NaN       1.000000            NaN     NaN   \n",
       "25%       4.584405e+06    NaN    2504.000000            NaN     NaN   \n",
       "50%       9.966988e+06    NaN    7916.000000            NaN     NaN   \n",
       "75%       1.017294e+07    NaN   11425.000000            NaN     NaN   \n",
       "max       1.101388e+07    NaN   51175.000000            NaN     NaN   \n",
       "\n",
       "        Neighbourhood ID Neighbourhood    Ward  Assessed Value       Latitude  \\\n",
       "count      384213.000000        384213  384213    3.842170e+05  384217.000000   \n",
       "unique               NaN           345      12             NaN            NaN   \n",
       "top                  NaN        OLIVER  Ward 9             NaN            NaN   \n",
       "freq                 NaN         11380   51837             NaN            NaN   \n",
       "mean         4270.033703           NaN     NaN    3.084198e+05      53.518421   \n",
       "std          1748.172894           NaN     NaN    2.837778e+05       0.068403   \n",
       "min          1010.000000           NaN     NaN    0.000000e+00      53.338595   \n",
       "25%          2660.000000           NaN     NaN    1.700000e+05      53.458619   \n",
       "50%          4540.000000           NaN     NaN    3.055000e+05      53.519813   \n",
       "75%          5576.000000           NaN     NaN    3.975000e+05      53.574187   \n",
       "max          8888.000000           NaN     NaN    4.391150e+07      53.715150   \n",
       "\n",
       "            Longitude  \n",
       "count   384217.000000  \n",
       "unique            NaN  \n",
       "top               NaN  \n",
       "freq              NaN  \n",
       "mean      -113.512491  \n",
       "std          0.082829  \n",
       "min       -113.712930  \n",
       "25%       -113.569078  \n",
       "50%       -113.510520  \n",
       "75%       -113.447708  \n",
       "max       -113.278441  "
      ]
     },
     "execution_count": 4,
     "metadata": {},
     "output_type": "execute_result"
    }
   ],
   "source": [
    "df.describe(include=\"all\")"
   ]
  },
  {
   "cell_type": "markdown",
   "metadata": {},
   "source": [
    "Price time! I care about dollars and cents, what can you tell me about the prices of homes in Edmonton?"
   ]
  },
  {
   "cell_type": "code",
   "execution_count": 5,
   "metadata": {},
   "outputs": [
    {
     "data": {
      "text/plain": [
       "count      384217.000000\n",
       "mean       308419.780150\n",
       "std        283777.814736\n",
       "min             0.000000\n",
       "25%        170000.000000\n",
       "50%        305500.000000\n",
       "75%        397500.000000\n",
       "max      43911500.000000\n",
       "Name: Assessed Value, dtype: object"
      ]
     },
     "execution_count": 5,
     "metadata": {},
     "output_type": "execute_result"
    }
   ],
   "source": [
    "#Show some insight(s) on the prices of homes in Edmonton\n",
    "df[\"Assessed Value\"].describe().apply(lambda x: format(x, 'f'))\n",
    "#I googled \"python describe no scientific notation to get the apply part\""
   ]
  },
  {
   "cell_type": "markdown",
   "metadata": {},
   "source": [
    "I think I want a garage. Are places with garages more expensive?\n",
    "(After completing this, think about if there are any circumstances that are unclear or unaccounted for when we answer this question.)"
   ]
  },
  {
   "cell_type": "code",
   "execution_count": 6,
   "metadata": {},
   "outputs": [],
   "source": [
    "#Are garage houses more expensive?\n",
    "gar = df[df[\"Garage\"]==\"Y\"]\n",
    "noGar = df[df[\"Garage\"]==\"N\"]"
   ]
  },
  {
   "cell_type": "code",
   "execution_count": 7,
   "metadata": {},
   "outputs": [
    {
     "data": {
      "text/html": [
       "<div>\n",
       "<style scoped>\n",
       "    .dataframe tbody tr th:only-of-type {\n",
       "        vertical-align: middle;\n",
       "    }\n",
       "\n",
       "    .dataframe tbody tr th {\n",
       "        vertical-align: top;\n",
       "    }\n",
       "\n",
       "    .dataframe thead th {\n",
       "        text-align: right;\n",
       "    }\n",
       "</style>\n",
       "<table border=\"1\" class=\"dataframe\">\n",
       "  <thead>\n",
       "    <tr style=\"text-align: right;\">\n",
       "      <th></th>\n",
       "      <th>Account Number</th>\n",
       "      <th>Suite</th>\n",
       "      <th>House Number</th>\n",
       "      <th>Street Name</th>\n",
       "      <th>Garage</th>\n",
       "      <th>Neighbourhood ID</th>\n",
       "      <th>Neighbourhood</th>\n",
       "      <th>Ward</th>\n",
       "      <th>Assessed Value</th>\n",
       "      <th>Latitude</th>\n",
       "      <th>Longitude</th>\n",
       "    </tr>\n",
       "  </thead>\n",
       "  <tbody>\n",
       "    <tr>\n",
       "      <th>3</th>\n",
       "      <td>1034214</td>\n",
       "      <td>NaN</td>\n",
       "      <td>10661.0</td>\n",
       "      <td>161 AVENUE NW</td>\n",
       "      <td>Y</td>\n",
       "      <td>3040.0</td>\n",
       "      <td>BEAUMARIS</td>\n",
       "      <td>Ward 3</td>\n",
       "      <td>635000</td>\n",
       "      <td>53.619978</td>\n",
       "      <td>-113.506990</td>\n",
       "    </tr>\n",
       "    <tr>\n",
       "      <th>4</th>\n",
       "      <td>1114701</td>\n",
       "      <td>NaN</td>\n",
       "      <td>15003.0</td>\n",
       "      <td>76 AVENUE NW</td>\n",
       "      <td>Y</td>\n",
       "      <td>4430.0</td>\n",
       "      <td>RIO TERRACE</td>\n",
       "      <td>Ward 5</td>\n",
       "      <td>407500</td>\n",
       "      <td>53.508644</td>\n",
       "      <td>-113.579897</td>\n",
       "    </tr>\n",
       "    <tr>\n",
       "      <th>5</th>\n",
       "      <td>1012277</td>\n",
       "      <td>NaN</td>\n",
       "      <td>15110.0</td>\n",
       "      <td>45 AVENUE NW</td>\n",
       "      <td>Y</td>\n",
       "      <td>5340.0</td>\n",
       "      <td>RAMSAY HEIGHTS</td>\n",
       "      <td>Ward 9</td>\n",
       "      <td>306500</td>\n",
       "      <td>53.484560</td>\n",
       "      <td>-113.581913</td>\n",
       "    </tr>\n",
       "    <tr>\n",
       "      <th>6</th>\n",
       "      <td>1191246</td>\n",
       "      <td>NaN</td>\n",
       "      <td>17407.0</td>\n",
       "      <td>92 STREET NW</td>\n",
       "      <td>Y</td>\n",
       "      <td>2450.0</td>\n",
       "      <td>LAGO LINDO</td>\n",
       "      <td>Ward 3</td>\n",
       "      <td>342500</td>\n",
       "      <td>53.636045</td>\n",
       "      <td>-113.482938</td>\n",
       "    </tr>\n",
       "    <tr>\n",
       "      <th>7</th>\n",
       "      <td>1298470</td>\n",
       "      <td>NaN</td>\n",
       "      <td>9347.0</td>\n",
       "      <td>167A AVENUE NW</td>\n",
       "      <td>Y</td>\n",
       "      <td>2450.0</td>\n",
       "      <td>LAGO LINDO</td>\n",
       "      <td>Ward 3</td>\n",
       "      <td>305000</td>\n",
       "      <td>53.629140</td>\n",
       "      <td>-113.486732</td>\n",
       "    </tr>\n",
       "  </tbody>\n",
       "</table>\n",
       "</div>"
      ],
      "text/plain": [
       "   Account Number Suite  House Number     Street Name Garage  \\\n",
       "3         1034214   NaN       10661.0   161 AVENUE NW      Y   \n",
       "4         1114701   NaN       15003.0    76 AVENUE NW      Y   \n",
       "5         1012277   NaN       15110.0    45 AVENUE NW      Y   \n",
       "6         1191246   NaN       17407.0    92 STREET NW      Y   \n",
       "7         1298470   NaN        9347.0  167A AVENUE NW      Y   \n",
       "\n",
       "   Neighbourhood ID   Neighbourhood    Ward  Assessed Value   Latitude  \\\n",
       "3            3040.0       BEAUMARIS  Ward 3          635000  53.619978   \n",
       "4            4430.0     RIO TERRACE  Ward 5          407500  53.508644   \n",
       "5            5340.0  RAMSAY HEIGHTS  Ward 9          306500  53.484560   \n",
       "6            2450.0      LAGO LINDO  Ward 3          342500  53.636045   \n",
       "7            2450.0      LAGO LINDO  Ward 3          305000  53.629140   \n",
       "\n",
       "    Longitude  \n",
       "3 -113.506990  \n",
       "4 -113.579897  \n",
       "5 -113.581913  \n",
       "6 -113.482938  \n",
       "7 -113.486732  "
      ]
     },
     "execution_count": 7,
     "metadata": {},
     "output_type": "execute_result"
    }
   ],
   "source": [
    "gar.head()"
   ]
  },
  {
   "cell_type": "code",
   "execution_count": 8,
   "metadata": {},
   "outputs": [
    {
     "data": {
      "text/html": [
       "<div>\n",
       "<style scoped>\n",
       "    .dataframe tbody tr th:only-of-type {\n",
       "        vertical-align: middle;\n",
       "    }\n",
       "\n",
       "    .dataframe tbody tr th {\n",
       "        vertical-align: top;\n",
       "    }\n",
       "\n",
       "    .dataframe thead th {\n",
       "        text-align: right;\n",
       "    }\n",
       "</style>\n",
       "<table border=\"1\" class=\"dataframe\">\n",
       "  <thead>\n",
       "    <tr style=\"text-align: right;\">\n",
       "      <th></th>\n",
       "      <th>Account Number</th>\n",
       "      <th>Suite</th>\n",
       "      <th>House Number</th>\n",
       "      <th>Street Name</th>\n",
       "      <th>Garage</th>\n",
       "      <th>Neighbourhood ID</th>\n",
       "      <th>Neighbourhood</th>\n",
       "      <th>Ward</th>\n",
       "      <th>Assessed Value</th>\n",
       "      <th>Latitude</th>\n",
       "      <th>Longitude</th>\n",
       "    </tr>\n",
       "  </thead>\n",
       "  <tbody>\n",
       "    <tr>\n",
       "      <th>0</th>\n",
       "      <td>1066158</td>\n",
       "      <td>NaN</td>\n",
       "      <td>14904.0</td>\n",
       "      <td>167 AVENUE NW</td>\n",
       "      <td>N</td>\n",
       "      <td>NaN</td>\n",
       "      <td>NaN</td>\n",
       "      <td>NaN</td>\n",
       "      <td>86000</td>\n",
       "      <td>53.630497</td>\n",
       "      <td>-113.580474</td>\n",
       "    </tr>\n",
       "    <tr>\n",
       "      <th>1</th>\n",
       "      <td>10508233</td>\n",
       "      <td>NaN</td>\n",
       "      <td>16340.0</td>\n",
       "      <td>MARK MESSIER TRAIL NW</td>\n",
       "      <td>N</td>\n",
       "      <td>NaN</td>\n",
       "      <td>NaN</td>\n",
       "      <td>NaN</td>\n",
       "      <td>45000</td>\n",
       "      <td>53.617335</td>\n",
       "      <td>-113.605690</td>\n",
       "    </tr>\n",
       "    <tr>\n",
       "      <th>2</th>\n",
       "      <td>1194398</td>\n",
       "      <td>NaN</td>\n",
       "      <td>15617.0</td>\n",
       "      <td>83 STREET NW</td>\n",
       "      <td>N</td>\n",
       "      <td>2050.0</td>\n",
       "      <td>BELLE RIVE</td>\n",
       "      <td>Ward 3</td>\n",
       "      <td>285000</td>\n",
       "      <td>53.617007</td>\n",
       "      <td>-113.467976</td>\n",
       "    </tr>\n",
       "    <tr>\n",
       "      <th>9</th>\n",
       "      <td>1222595</td>\n",
       "      <td>NaN</td>\n",
       "      <td>9000.0</td>\n",
       "      <td>168 STREET NW</td>\n",
       "      <td>N</td>\n",
       "      <td>4590.0</td>\n",
       "      <td>WEST MEADOWLARK PARK</td>\n",
       "      <td>Ward 1</td>\n",
       "      <td>357500</td>\n",
       "      <td>53.525299</td>\n",
       "      <td>-113.612953</td>\n",
       "    </tr>\n",
       "    <tr>\n",
       "      <th>10</th>\n",
       "      <td>1286483</td>\n",
       "      <td>910</td>\n",
       "      <td>10145.0</td>\n",
       "      <td>121 STREET NW</td>\n",
       "      <td>N</td>\n",
       "      <td>1150.0</td>\n",
       "      <td>OLIVER</td>\n",
       "      <td>Ward 6</td>\n",
       "      <td>120500</td>\n",
       "      <td>53.542162</td>\n",
       "      <td>-113.530183</td>\n",
       "    </tr>\n",
       "  </tbody>\n",
       "</table>\n",
       "</div>"
      ],
      "text/plain": [
       "    Account Number Suite  House Number            Street Name Garage  \\\n",
       "0          1066158   NaN       14904.0          167 AVENUE NW      N   \n",
       "1         10508233   NaN       16340.0  MARK MESSIER TRAIL NW      N   \n",
       "2          1194398   NaN       15617.0           83 STREET NW      N   \n",
       "9          1222595   NaN        9000.0          168 STREET NW      N   \n",
       "10         1286483   910       10145.0          121 STREET NW      N   \n",
       "\n",
       "    Neighbourhood ID         Neighbourhood    Ward  Assessed Value   Latitude  \\\n",
       "0                NaN                   NaN     NaN           86000  53.630497   \n",
       "1                NaN                   NaN     NaN           45000  53.617335   \n",
       "2             2050.0            BELLE RIVE  Ward 3          285000  53.617007   \n",
       "9             4590.0  WEST MEADOWLARK PARK  Ward 1          357500  53.525299   \n",
       "10            1150.0                OLIVER  Ward 6          120500  53.542162   \n",
       "\n",
       "     Longitude  \n",
       "0  -113.580474  \n",
       "1  -113.605690  \n",
       "2  -113.467976  \n",
       "9  -113.612953  \n",
       "10 -113.530183  "
      ]
     },
     "execution_count": 8,
     "metadata": {},
     "output_type": "execute_result"
    }
   ],
   "source": [
    "noGar.head()"
   ]
  },
  {
   "cell_type": "code",
   "execution_count": 9,
   "metadata": {},
   "outputs": [
    {
     "name": "stdout",
     "output_type": "stream",
     "text": [
      "count      235286.000000\n",
      "mean       409798.316389\n",
      "std        206398.749871\n",
      "min             0.000000\n",
      "25%        309500.000000\n",
      "50%        368500.000000\n",
      "75%        453500.000000\n",
      "max      12294500.000000\n",
      "Name: Assessed Value, dtype: object\n",
      "count      148931.000000\n",
      "mean       148258.696980\n",
      "std        313948.854593\n",
      "min             0.000000\n",
      "25%         11500.000000\n",
      "50%        143500.000000\n",
      "75%        202000.000000\n",
      "max      43911500.000000\n",
      "Name: Assessed Value, dtype: object\n"
     ]
    }
   ],
   "source": [
    "#Describe both to get summary stats\n",
    "print(gar[\"Assessed Value\"].describe().apply(lambda x: format(x, 'f')))\n",
    "print(noGar[\"Assessed Value\"].describe().apply(lambda x: format(x, 'f')))"
   ]
  },
  {
   "cell_type": "markdown",
   "metadata": {},
   "source": [
    "We can measure this formally with something called the Effect Size. The function for effect size is in the next cell. "
   ]
  },
  {
   "cell_type": "code",
   "execution_count": 10,
   "metadata": {},
   "outputs": [],
   "source": [
    "\n",
    "def CohenEffectSize(group1, group2):\n",
    "    \"\"\"Computes Cohen's effect size for two groups.\n",
    "    \n",
    "    group1: Series or DataFrame\n",
    "    group2: Series or DataFrame\n",
    "    \n",
    "    returns: float if the arguments are Series;\n",
    "             Series if the arguments are DataFrames\n",
    "    \"\"\"\n",
    "    diff = group1.mean() - group2.mean()\n",
    "\n",
    "    var1 = group1.var()\n",
    "    var2 = group2.var()\n",
    "    n1, n2 = len(group1), len(group2)\n",
    "\n",
    "    pooled_var = (n1 * var1 + n2 * var2) / (n1 + n2)\n",
    "    d = diff / np.sqrt(pooled_var)\n",
    "    return d"
   ]
  },
  {
   "cell_type": "markdown",
   "metadata": {},
   "source": [
    "Compute the Cohen Effect Size. Why is this often more useful than just comparing the values like we did above? What can we gather from the value calculated here?"
   ]
  },
  {
   "cell_type": "code",
   "execution_count": 11,
   "metadata": {},
   "outputs": [
    {
     "data": {
      "text/plain": [
       "1.031466841152849"
      ]
     },
     "execution_count": 11,
     "metadata": {},
     "output_type": "execute_result"
    }
   ],
   "source": [
    "#Compute Cohen Effect Size\n",
    "CohenEffectSize(gar[\"Assessed Value\"], noGar[\"Assessed Value\"])"
   ]
  },
  {
   "cell_type": "markdown",
   "metadata": {},
   "source": [
    "All this is cool and all, but I want some more information on how much houses cost. What could be a better way to show this....\n",
    "\n",
    "Can I find a bunch of houses for $100k? $200k? $500k? If I win the lottery, do I have a wide selection of homes that are $10 million?"
   ]
  },
  {
   "cell_type": "code",
   "execution_count": 12,
   "metadata": {},
   "outputs": [],
   "source": [
    "#Create a histogram to show prices of homes and the distribution\n",
    "#First I'm going to slice out all 3 price columns, for convenience\n",
    "#To make a slightly more easy to use dataset, I'm rounding to the nearest $10k - the -4th decimal\n",
    "allPrice = round(df[\"Assessed Value\"], -4)\n",
    "garPrice = round(gar[\"Assessed Value\"], -4)\n",
    "noGarPrice = round(noGar[\"Assessed Value\"], -4)\n"
   ]
  },
  {
   "cell_type": "code",
   "execution_count": 13,
   "metadata": {},
   "outputs": [
    {
     "data": {
      "image/png": "[encoded data removed]",
      "text/plain": [
       "<Figure size 432x288 with 1 Axes>"
      ]
     },
     "metadata": {
      "needs_background": "light"
     },
     "output_type": "display_data"
    }
   ],
   "source": [
    "all_hist = thinkstats2.Hist(allPrice.sort_values(), label=\"Prices\")\n",
    "thinkplot.PrePlot(1)\n",
    "thinkplot.Hist(all_hist)\n",
    "thinkplot.Config(xlabel=\"price\", ylabel=\"count\", xlim=[0,500000], ylim=[0,15000])\n",
    "#all_hist"
   ]
  },
  {
   "cell_type": "markdown",
   "metadata": {},
   "source": [
    "Sweet, that's more helpful. Can we look at how the distribution is for garage vs non-garage?"
   ]
  },
  {
   "cell_type": "code",
   "execution_count": 14,
   "metadata": {},
   "outputs": [
    {
     "data": {
      "image/png": "[encoded data removed]",
      "text/plain": [
       "<Figure size 432x288 with 1 Axes>"
      ]
     },
     "metadata": {
      "needs_background": "light"
     },
     "output_type": "display_data"
    }
   ],
   "source": [
    "#Create double histogram \n",
    "gar_hist = thinkstats2.Hist(garPrice, label=\"Garage\")\n",
    "noGar_hist = thinkstats2.Hist(noGarPrice, label=\"No Garage\")\n",
    "\n",
    "width = 4500\n",
    "thinkplot.PrePlot(2)\n",
    "thinkplot.Hist(gar_hist, align=\"right\", width=width)\n",
    "thinkplot.Hist(noGar_hist, align=\"left\", width=width)\n",
    "thinkplot.Config(xlabel='Price', ylabel='Count', xlim=[0, 500000], ylim=[0,15000])"
   ]
  },
  {
   "cell_type": "markdown",
   "metadata": {},
   "source": [
    "It looks like the \"shape\" (distribution) of the house prices is kind of different for the garage vs. not garage, e.g. the garage ones have a tail that goes out to be really expensive...\n",
    "\n",
    "We can measure this, as it is often a useful thing to know. The variance is a measure of how different each measure is from the mean;\n",
    "var = (sum(val-mean)^2)/(num_records - 1)\n",
    "More varaince, the 'farther' the average value is from the mean, or the more spread out the data is. "
   ]
  },
  {
   "cell_type": "code",
   "execution_count": 15,
   "metadata": {},
   "outputs": [
    {
     "name": "stdout",
     "output_type": "stream",
     "text": [
      "80545495950.1769\n",
      "42612776828.571335\n",
      "98580391294.45813\n"
     ]
    }
   ],
   "source": [
    "#what is the varaiance of each?\n",
    "print(allPrice.var())\n",
    "print(garPrice.var())\n",
    "print(noGarPrice.var())"
   ]
  },
  {
   "cell_type": "markdown",
   "metadata": {},
   "source": [
    "The varaince gives us an idea of which dataset is more or less spread out, but for individual values, it isn't that useful.\n",
    "\n",
    "We also have the standard deviation, which is more useful overall. It is just the square root of the varaiance. \n",
    "\n",
    "The standard deviation is (kind of) how far away from the mean we expect a typical value to be. E.g. if the average male is 6 feet tall and the standard deviation is 1 inch, we can expect the typical person to be around 5'11\" to 6'1\", pretty tightly grouped. If the standard deviation is 4 inches, we'd expect the heights to be much more varied - around 5.8 to 6.4. "
   ]
  },
  {
   "cell_type": "code",
   "execution_count": 16,
   "metadata": {},
   "outputs": [
    {
     "name": "stdout",
     "output_type": "stream",
     "text": [
      "283805.3839344435\n",
      "206428.6240533791\n",
      "313975.1443895808\n"
     ]
    }
   ],
   "source": [
    "#what is the std dev of each?\n",
    "print(allPrice.std())\n",
    "print(garPrice.std())\n",
    "print(noGarPrice.std())"
   ]
  },
  {
   "cell_type": "markdown",
   "metadata": {},
   "source": [
    "Based of of what we can see in the histograms and the standard deviation, is there anything that we can do to make our analysis a little bit better?\n",
    "\n",
    "Remember, I want a home - can I really buy one on the far left of the histogram? What's up there?"
   ]
  },
  {
   "cell_type": "code",
   "execution_count": 17,
   "metadata": {},
   "outputs": [
    {
     "data": {
      "image/png": "[encoded data removed]",
      "text/plain": [
       "<Figure size 432x288 with 1 Axes>"
      ]
     },
     "metadata": {
      "needs_background": "light"
     },
     "output_type": "display_data"
    }
   ],
   "source": [
    "#Filter out super low prices\n",
    "filt = allPrice[allPrice > 50000]\n",
    "filtHist = thinkstats2.Hist(filt, label=\"Prices\")\n",
    "thinkplot.PrePlot(1)\n",
    "thinkplot.Hist(filtHist)\n",
    "thinkplot.Config(xlabel=\"price\", ylabel=\"count\", xlim=[0,1000000], ylim=[0,15000])"
   ]
  },
  {
   "cell_type": "code",
   "execution_count": 18,
   "metadata": {},
   "outputs": [
    {
     "name": "stdout",
     "output_type": "stream",
     "text": [
      "278640.9606772231\n",
      "349524.14509858494\n"
     ]
    }
   ],
   "source": [
    "print(filt.std())\n",
    "print(filt.mean())"
   ]
  },
  {
   "cell_type": "markdown",
   "metadata": {},
   "source": [
    "There's some pretty expensive homes that trail off to the end....\n",
    "What if we were to look at the baller houses?"
   ]
  },
  {
   "cell_type": "code",
   "execution_count": 19,
   "metadata": {},
   "outputs": [
    {
     "data": {
      "image/png": "[encoded data removed]",
      "text/plain": [
       "<Figure size 432x288 with 1 Axes>"
      ]
     },
     "metadata": {
      "needs_background": "light"
     },
     "output_type": "display_data"
    }
   ],
   "source": [
    "#Look at homes over $750k\n",
    "richHouses = round(df[df[\"Assessed Value\"]>1000000], -4)\n",
    "richHist = thinkstats2.Hist(richHouses[\"Assessed Value\"], label=\"Prices\")\n",
    "thinkplot.PrePlot(1)\n",
    "thinkplot.Hist(richHist)\n",
    "thinkplot.Config(xlabel=\"price\", ylabel=\"count\", xlim=[900000,5000000], ylim=[0,110])"
   ]
  },
  {
   "cell_type": "markdown",
   "metadata": {},
   "source": [
    "Helpful!! Thanks so much. Here's some other things to try..."
   ]
  },
  {
   "cell_type": "code",
   "execution_count": 20,
   "metadata": {},
   "outputs": [],
   "source": [
    "#Choose two neighborhoods (maybe one you live in, and one you'd like). Calculate the effect size between the two, and graph\n",
    "#the histogram of both. Does this match your real life understanding? "
   ]
  },
  {
   "cell_type": "code",
   "execution_count": 21,
   "metadata": {},
   "outputs": [],
   "source": [
    "#The non-garage homes look realllllllly cheap. Is there anything that can explain this?\n",
    "#Is there anything that can be done to make our analysis more representative? "
   ]
  }
 ],
 "metadata": {
  "interpreter": {
   "hash": "e1ba64b7a303d119649d0ae0356050bbb0c08b2db5c9a78a25e31cde0b395fad"
  },
  "kernelspec": {
   "display_name": "Python 3.8.8 64-bit ('base': conda)",
   "name": "python3"
  },
  "language_info": {
   "codemirror_mode": {
    "name": "ipython",
    "version": 3
   },
   "file_extension": ".py",
   "mimetype": "text/x-python",
   "name": "python",
   "nbconvert_exporter": "python",
   "pygments_lexer": "ipython3",
   "version": "3.8.8"
  },
  "orig_nbformat": 4
 },
 "nbformat": 4,
 "nbformat_minor": 2
}
