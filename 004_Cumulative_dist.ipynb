{
 "cells": [
  {
   "cell_type": "markdown",
   "source": [
    "We will use the athlete data from the previous noptebook. \n",
    "Load it into 2 arrays again. "
   ],
   "metadata": {}
  },
  {
   "cell_type": "code",
   "execution_count": 1,
   "source": [
    "import thinkplot\r\n",
    "import thinkstats2\r\n",
    "import pandas as pd\r\n",
    "import numpy as np"
   ],
   "outputs": [],
   "metadata": {}
  },
  {
   "cell_type": "code",
   "execution_count": 2,
   "source": [
    "#PLEASE TAKE A LOOK AT THE NOTE IN THE COMMENTS IN THIS BLOCK.\r\n",
    "dfNBA = pd.read_csv(\"NBA.csv\")\r\n",
    "dfNFL = pd.read_csv(\"NFL.csv\")\r\n",
    "\r\n",
    "#Take the height column and make a 1D dataframe, with only 1 column\r\n",
    "nba = dfNBA[\"Height\"]\r\n",
    "nfl = dfNFL[\"Height (inches)\"]\r\n",
    "#################################################################\r\n",
    "#Note: Originally when I showed this, the above two lines were slightly different. \r\n",
    "#They were (with the A added, obviously):\r\n",
    "nbaA = np.array(dfNBA[\"Height\"])\r\n",
    "nflA = np.array(dfNFL[\"Height (inches)\"])\r\n",
    "#This code makes a slightly different data structure - a numpy array. \r\n",
    "#An array is a 1D data structure - effectively just a big list. \r\n",
    "#The code below works basically the same with either. That's because both are \"iterable\"\r\n",
    "#That means (basically), something that has can give values one at a time. \r\n",
    "#Functions below can take either, with little/no change, or they can take a pandas Series\r\n",
    "#Which is kind of a pandas take on an array. I point this out for a few reasons:\r\n",
    "# - Examples will sometimes show different data structures, and the rest of the code doesn't really change.\r\n",
    "# - Some things will need other data structures, most notably ML needs arrays.\r\n",
    "#We don't need to understand the problem differently when different data structures are used.\r\n",
    "#It is basically like getting groceries with a bin, a reusable bag, or a plastic bag.\r\n",
    "#The all allow us to do the same thing (grocery shop/Machine Learn), and they can be used\r\n",
    "#Largely interchabably. Sometimes one is better than the other for a specific task. \r\n",
    "#This type of thing is very common - you can do anything you want in code, so there are almost\r\n",
    "#Always more than one way to do something. Flexible, but confusing. \r\n",
    "\r\n",
    "#Dump the non-numbers\r\n",
    "nba = nba[~np.isnan(nba)]\r\n",
    "nfl = nfl[~np.isnan(nfl)]"
   ],
   "outputs": [],
   "metadata": {}
  },
  {
   "cell_type": "markdown",
   "source": [
    "Check to make sure that the data loaded and is good to go."
   ],
   "metadata": {}
  },
  {
   "cell_type": "code",
   "execution_count": 3,
   "source": [
    "#Check the means\r\n",
    "print(\"NBA Mean Height: \"+str(np.mean(nba)))\r\n",
    "print(\"NFL Mean Height: \"+str(np.mean(nfl)))"
   ],
   "outputs": [
    {
     "output_type": "stream",
     "name": "stdout",
     "text": [
      "NBA Mean Height: 197.44075829383885\n",
      "NFL Mean Height: 73.50839891929989\n"
     ]
    }
   ],
   "metadata": {}
  },
  {
   "cell_type": "code",
   "execution_count": 4,
   "source": [
    "#Correct the heights to cm, so they are the same as NBA\r\n",
    "#This .apply() applies the function inside to an entire DF\r\n",
    "#The \"lambda x\" basically means \"grab each row one by one, and that row is (temporarily) x\"\r\n",
    "#The part after the colon means \"take x, and do this to it\"\r\n",
    "#So this will, more or less, grab each row, and do the function after the colon, one row at a time.\r\n",
    "nfl = nfl.apply(lambda x: x*2.54)\r\n",
    "nfl"
   ],
   "outputs": [
    {
     "output_type": "execute_result",
     "data": {
      "text/plain": [
       "0        180.34\n",
       "1        177.80\n",
       "2        187.96\n",
       "3        185.42\n",
       "4        195.58\n",
       "          ...  \n",
       "17167    180.34\n",
       "17168    190.50\n",
       "17169    182.88\n",
       "17170    185.42\n",
       "17171    185.42\n",
       "Name: Height (inches), Length: 17026, dtype: float64"
      ]
     },
     "metadata": {},
     "execution_count": 4
    }
   ],
   "metadata": {}
  },
  {
   "cell_type": "markdown",
   "source": [
    "The previous 2 methods of looking at the distribution showed us versions of \"how many of X are Y\" - e.g. how many players are 187cm tall. \n",
    "\n",
    "We may also want/need to look at cumulative measurements - \"how many of X are over/under Y\" - e.g. how many players are over 215cm, or under 172.523cm. Enter percentiles...\n",
    "\n",
    "Percentiles measure how far along the scale a value is - how many items a value is larger than, and the inverse, how many are higher than it. E.g. if you are in a class of 10 people, and you are the second tallest, you are in the 90th percentile of height - 90% of people in that sample are the same or shorter than you; the remaining 10% are taller. If you've been scored on a standardized test, you've probably gotten some kind of number like this. (The book has a more thorough explationation of percentile stuff)\n",
    "\n",
    "In order to calculate things, we need two functions that are basically inverses of eachother. Percentile rank takes in a value and calculates what percentile that is in. Percentile does the opposite, takes in a percentile, and calculates the value. (Read the book on this, it has the details)\n",
    "Percentile rank: value->ranking on percentile scale. e.g. I scored 72%, and the function tells me I'm in the 80th percentile. \n",
    "percentile: ranking->value. e.g. I'm in the 64th percentile of my graduating class, that means I have a 3.1 GPA."
   ],
   "metadata": {}
  },
  {
   "cell_type": "code",
   "execution_count": 5,
   "source": [
    "#The percentile functions\r\n",
    "def PercentileRank(scores, your_score):\r\n",
    "    count = 0\r\n",
    "    for score in scores:\r\n",
    "        if score <= your_score:\r\n",
    "            count += 1\r\n",
    "\r\n",
    "    percentile_rank = 100.0 * count / len(scores)\r\n",
    "    return percentile_rank\r\n",
    "\r\n",
    "def Percentile2(scores, percentile_rank):\r\n",
    "    scores.sort()\r\n",
    "    index = percentile_rank * (len(scores)-1) // 100\r\n",
    "    return scores[index]\r\n",
    "\r\n",
    "def EvalCdf(sample, x):\r\n",
    "    count = 0.0\r\n",
    "    for value in sample:\r\n",
    "        if value <= x:\r\n",
    "            count += 1\r\n",
    "\r\n",
    "    prob = count / len(sample)\r\n",
    "    return prob"
   ],
   "outputs": [],
   "metadata": {}
  },
  {
   "cell_type": "markdown",
   "source": [
    "The CDF is basically a different look at the percentile rank - given a value, how far \"up the scale\" are we."
   ],
   "metadata": {}
  },
  {
   "cell_type": "code",
   "execution_count": 6,
   "source": [
    "#Simple dummy example\r\n",
    "#Pretend these are weights in pounds\r\n",
    "sample = thinkstats2.Cdf([105,235,153,194,175,206,167,188,179,108,247,269,247])\r\n",
    "thinkplot.Cdf(sample)\r\n",
    "thinkplot.Show(xlabel=\"Weight (lb)\")"
   ],
   "outputs": [
    {
     "output_type": "display_data",
     "data": {
      "image/png": "[encoded data removed]",
      "text/plain": [
       "<Figure size 432x288 with 1 Axes>"
      ]
     },
     "metadata": {
      "needs_background": "light"
     }
    },
    {
     "output_type": "display_data",
     "data": {
      "text/plain": [
       "<Figure size 576x432 with 0 Axes>"
      ]
     },
     "metadata": {}
    }
   ],
   "metadata": {}
  },
  {
   "cell_type": "markdown",
   "source": [
    "We can read these CDF graphs like this... If I am 225lb, I can look that up on the x-axis. The corresponding y value is my percentile rank - I'm in apx the 70th percentile, or I'm heavier than about 70% of the people in the sample. \n",
    "\n",
    "How does the shape of a CDF relate to the shape of a PDF? With different standard deviations? Create a CDF with the numbers 1-10, what does that look like? What can you infer about the distribution?"
   ],
   "metadata": {}
  },
  {
   "cell_type": "markdown",
   "source": [
    "Create a CDF for both the NBA and NFL heights. How does that relate back to the histograms? "
   ],
   "metadata": {}
  },
  {
   "cell_type": "code",
   "execution_count": 15,
   "source": [
    "#Create and show CDF of NBA heights\r\n"
   ],
   "outputs": [],
   "metadata": {}
  },
  {
   "cell_type": "code",
   "execution_count": 16,
   "source": [
    "#Create and show CDF of NFL heights"
   ],
   "outputs": [],
   "metadata": {}
  },
  {
   "cell_type": "markdown",
   "source": [
    "Ok, we can run some calculations. "
   ],
   "metadata": {}
  },
  {
   "cell_type": "code",
   "execution_count": 17,
   "source": [
    "#Note: The reason for this conversion and rounding is so that there are more results for each\r\n",
    "#value because inches are \"bigger\". This isn't \"needed\", but it makes this more demonstrative\r\n",
    "##\r\n",
    "#Make both into inches, round to 1 inch\r\n",
    "#The reason for this is to make more results fall in each number, so some demos are easier.\r\n",
    "nbaIn = nba.apply(lambda x: x/2.54)\r\n",
    "nflIn = nfl.apply(lambda x: x/2.54)\r\n",
    "nbaIn = round(nbaIn, 0)\r\n",
    "nflIn = round(nflIn, 0)\r\n",
    "#Make CDF objects with the rounded stuff\r\n",
    "nbaRounded = thinkstats2.Cdf(nbaIn)\r\n",
    "nflRounded = thinkstats2.Cdf(nflIn)"
   ],
   "outputs": [],
   "metadata": {}
  },
  {
   "cell_type": "code",
   "execution_count": 18,
   "source": [
    "nflIn.describe()"
   ],
   "outputs": [
    {
     "output_type": "execute_result",
     "data": {
      "text/plain": [
       "count    17026.000000\n",
       "mean        73.508399\n",
       "std          2.577632\n",
       "min         61.000000\n",
       "25%         72.000000\n",
       "50%         74.000000\n",
       "75%         75.000000\n",
       "max         82.000000\n",
       "Name: Height (inches), dtype: float64"
      ]
     },
     "metadata": {},
     "execution_count": 18
    }
   ],
   "metadata": {}
  },
  {
   "cell_type": "code",
   "execution_count": 19,
   "source": [
    "thinkplot.cdfs([nflRounded, nbaRounded])\r\n",
    "thinkplot.show()"
   ],
   "outputs": [
    {
     "output_type": "display_data",
     "data": {
      "image/png": "[encoded data removed]",
      "text/plain": [
       "<Figure size 432x288 with 1 Axes>"
      ]
     },
     "metadata": {
      "needs_background": "light"
     }
    },
    {
     "output_type": "display_data",
     "data": {
      "text/plain": [
       "<Figure size 576x432 with 0 Axes>"
      ]
     },
     "metadata": {}
    }
   ],
   "metadata": {}
  },
  {
   "cell_type": "code",
   "execution_count": 28,
   "source": [
    "nflRounded.PercentileRank(73)\r\n",
    "nbaRounded.Percentile(73)"
   ],
   "outputs": [
    {
     "output_type": "execute_result",
     "data": {
      "text/plain": [
       "80.0"
      ]
     },
     "metadata": {},
     "execution_count": 28
    }
   ],
   "metadata": {}
  },
  {
   "cell_type": "code",
   "execution_count": 29,
   "source": [
    "#E.g. What is the probability that someone in the NBA is 80in tall\r\n",
    "nbaRounded.Prob(80)\r\n",
    "#And if we want to see in in pretty printing\r\n",
    "print(str(round(nbaRounded.Prob(80), 3)*100)+\"%\")\r\n",
    "\r\n",
    "#And if someone is over 74in in the NFL?\r\n",
    "#Think about why there's the extra math in there.\r\n",
    "res = PercentileRank(nflIn, 74)\r\n",
    "print(str(round((1-res), 1)*-1)+\"%\")"
   ],
   "outputs": [
    {
     "output_type": "stream",
     "name": "stdout",
     "text": [
      "73.9%\n",
      "62.3%\n"
     ]
    }
   ],
   "metadata": {}
  },
  {
   "cell_type": "code",
   "execution_count": 30,
   "source": [
    "#Using the Percentile/Rank functions, and the CDF functions on pg 49 of the book\r\n",
    "#Can you look for anything interesting in the data?\r\n",
    "#Who's over X, who's under? How you'd your height score on the scale?\r\n",
    "#If someone is in the top 20% of NFL height, how to they rank in the NBA?\r\n",
    "#How many people are shorter than you (or a friend) in either leauge?"
   ],
   "outputs": [],
   "metadata": {}
  }
 ],
 "metadata": {
  "orig_nbformat": 4,
  "language_info": {
   "name": "python",
   "version": "3.8.8",
   "mimetype": "text/x-python",
   "codemirror_mode": {
    "name": "ipython",
    "version": 3
   },
   "pygments_lexer": "ipython3",
   "nbconvert_exporter": "python",
   "file_extension": ".py"
  },
  "kernelspec": {
   "name": "python3",
   "display_name": "Python 3.8.8 64-bit ('base': conda)"
  },
  "interpreter": {
   "hash": "e1ba64b7a303d119649d0ae0356050bbb0c08b2db5c9a78a25e31cde0b395fad"
  }
 },
 "nbformat": 4,
 "nbformat_minor": 2
}